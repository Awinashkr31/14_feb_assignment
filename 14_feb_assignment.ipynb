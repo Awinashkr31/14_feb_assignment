{
 "cells": [
  {
   "cell_type": "code",
   "execution_count": 1,
   "id": "a7590d31-ecc2-4e10-966f-d43e72b13195",
   "metadata": {},
   "outputs": [],
   "source": [
    "#Q1. What is multithreading in python? Why is it used? Name the module used to handle threads in python."
   ]
  },
  {
   "cell_type": "code",
   "execution_count": 7,
   "id": "360a5200-f9d3-4b98-adb8-7dd5d3c4ec59",
   "metadata": {},
   "outputs": [
    {
     "data": {
      "text/plain": [
       "' Multithreading in Python is a mechanism that allows a program to concurrently execute multiple threads of execution within \\n    the same process. Each thread is an independent sequence of instructions that can be scheduled and run by the operating system.\\n\\n    Multithreading is used in Python to improve the performance of programs that have to perform multiple tasks simultaneously.\\n    By dividing the program\\'s tasks into smaller threads, the program can take advantage of the available processing power and \\n    reduce the overall execution time.\\n\\n    The module used to handle threads in Python is called \"threading\". This module provides a way to create, start, and manage \\n    threads in a Python program. The \"threading\" module provides a Thread class that can be used to create new threads and a \\n    set of synchronization primitives such as locks and semaphores to coordinate access to shared resources among threads.'"
      ]
     },
     "execution_count": 7,
     "metadata": {},
     "output_type": "execute_result"
    }
   ],
   "source": [
    "\"\"\" Multithreading in Python is a mechanism that allows a program to concurrently execute multiple threads of execution within \n",
    "    the same process. Each thread is an independent sequence of instructions that can be scheduled and run by the operating system.\n",
    "\n",
    "    Multithreading is used in Python to improve the performance of programs that have to perform multiple tasks simultaneously.\n",
    "    By dividing the program's tasks into smaller threads, the program can take advantage of the available processing power and \n",
    "    reduce the overall execution time.\n",
    "\n",
    "    The module used to handle threads in Python is called \"threading\". This module provides a way to create, start, and manage \n",
    "    threads in a Python program. The \"threading\" module provides a Thread class that can be used to create new threads and a \n",
    "    set of synchronization primitives such as locks and semaphores to coordinate access to shared resources among threads.\"\"\""
   ]
  },
  {
   "cell_type": "code",
   "execution_count": 2,
   "id": "703fbadc-ee25-4350-93ab-e84f49abcd78",
   "metadata": {},
   "outputs": [],
   "source": [
    "#Q2. Why threading module used? Write the use of the following functions:\n",
    "#    1. activeCount()\n",
    "#    2. currentThread()"
   ]
  },
  {
   "cell_type": "code",
   "execution_count": 8,
   "id": "b09323d5-dcfa-4994-b82e-31db96004261",
   "metadata": {},
   "outputs": [
    {
     "data": {
      "text/plain": [
       "' The threading module is used in Python to create and manage threads in a program. It provides a high-level interface for \\n    working with threads and provides synchronization primitives to manage access to shared resources.\\n\\n1. `activeCount()`: This function is used to get the number of thread objects that are currently active in the Python interpreter.\\n    The function returns an integer representing the number of active threads. This function is useful for debugging and profiling\\n    purposes, as it allows you to track the number of threads in your program and ensure that they are being properly managed.\\n\\n2. `currentThread()`: This function returns a Thread object representing the current thread of execution. The Thread object \\n    can be used to obtain information about the current thread, such as its name, thread ID, and stack traces. This function\\n    is useful for debugging and profiling purposes, as it allows you to obtain information about the current state of the\\n    program and the threads that are currently running. You can also use the Thread object returned by this function to interact\\n    with the current thread, such as setting thread-local data or terminating the thread.'"
      ]
     },
     "execution_count": 8,
     "metadata": {},
     "output_type": "execute_result"
    }
   ],
   "source": [
    "\"\"\" The threading module is used in Python to create and manage threads in a program. It provides a high-level interface for \n",
    "    working with threads and provides synchronization primitives to manage access to shared resources.\n",
    "\n",
    "1. `activeCount()`: This function is used to get the number of thread objects that are currently active in the Python interpreter.\n",
    "    The function returns an integer representing the number of active threads. This function is useful for debugging and profiling\n",
    "    purposes, as it allows you to track the number of threads in your program and ensure that they are being properly managed.\n",
    "\n",
    "2. `currentThread()`: This function returns a Thread object representing the current thread of execution. The Thread object \n",
    "    can be used to obtain information about the current thread, such as its name, thread ID, and stack traces. This function\n",
    "    is useful for debugging and profiling purposes, as it allows you to obtain information about the current state of the\n",
    "    program and the threads that are currently running. You can also use the Thread object returned by this function to interact\n",
    "    with the current thread, such as setting thread-local data or terminating the thread.\"\"\""
   ]
  },
  {
   "cell_type": "code",
   "execution_count": 3,
   "id": "32086bb9-4816-4d67-8f69-f825e982b242",
   "metadata": {},
   "outputs": [],
   "source": [
    "#Q3. Explain the following functions: 1. run 2. start() 3. join 4. isAlive()"
   ]
  },
  {
   "cell_type": "code",
   "execution_count": 9,
   "id": "d79b8932-9bab-42a2-b702-ff33c5aa1bb6",
   "metadata": {},
   "outputs": [
    {
     "data": {
      "text/plain": [
       "\" The following are some of the functions provided by the `Thread` class in Python's `threading` module:\\n\\n1. `run()`: This method is called when a thread starts running. It contains the code that will be executed by the thread. \\n    You can override this method in a subclass to provide the specific functionality that you want the thread to perform.\\n\\n2. `start()`: This method starts the thread's execution. It creates a new thread of execution and calls the `run()` method to\\n    start executing the thread. Once the thread has been started, it will run independently of the main thread and continue\\n    executing until it has completed or has been terminated.\\n\\n3. `join()`: This method waits for the thread to complete its execution. When this method is called, the current thread is blocked\\n    until the target thread has finished executing. If the target thread is already finished, the `join()` method returns \\n    immediately. You can use this method to ensure that a thread has completed its execution before continuing with the rest\\n    of the program.\\n\\n4. `isAlive()`: This method returns a boolean value indicating whether the thread is currently running or not. If the thread\\n    is still executing, this method will return `True`. If the thread has completed its execution or has not yet been started,\\n    this method will return `False`. You can use this method to check the status of a thread and determine whether it has\\n    finished executing or not.\""
      ]
     },
     "execution_count": 9,
     "metadata": {},
     "output_type": "execute_result"
    }
   ],
   "source": [
    "\"\"\" The following are some of the functions provided by the `Thread` class in Python's `threading` module:\n",
    "\n",
    "1. `run()`: This method is called when a thread starts running. It contains the code that will be executed by the thread. \n",
    "    You can override this method in a subclass to provide the specific functionality that you want the thread to perform.\n",
    "\n",
    "2. `start()`: This method starts the thread's execution. It creates a new thread of execution and calls the `run()` method to\n",
    "    start executing the thread. Once the thread has been started, it will run independently of the main thread and continue\n",
    "    executing until it has completed or has been terminated.\n",
    "\n",
    "3. `join()`: This method waits for the thread to complete its execution. When this method is called, the current thread is blocked\n",
    "    until the target thread has finished executing. If the target thread is already finished, the `join()` method returns \n",
    "    immediately. You can use this method to ensure that a thread has completed its execution before continuing with the rest\n",
    "    of the program.\n",
    "\n",
    "4. `isAlive()`: This method returns a boolean value indicating whether the thread is currently running or not. If the thread\n",
    "    is still executing, this method will return `True`. If the thread has completed its execution or has not yet been started,\n",
    "    this method will return `False`. You can use this method to check the status of a thread and determine whether it has\n",
    "    finished executing or not.\"\"\""
   ]
  },
  {
   "cell_type": "code",
   "execution_count": 4,
   "id": "0e1ca31b-5d8b-4443-bd21-01d9b8dbe37c",
   "metadata": {},
   "outputs": [],
   "source": [
    "#Q4. Write a python program to create two threads. Thread one must print the list of squares and thread two must print the list of cubes."
   ]
  },
  {
   "cell_type": "code",
   "execution_count": 10,
   "id": "2ac7f7d3-b9b5-418a-ab5d-46d6ace98bae",
   "metadata": {},
   "outputs": [
    {
     "name": "stdout",
     "output_type": "stream",
     "text": [
      "List of Squares: [1, 4, 9, 16, 25, 36, 49, 64, 81, 100]\n",
      "List of Cubes: [1, 8, 27, 64, 125, 216, 343, 512, 729, 1000]\n",
      "Done!\n"
     ]
    }
   ],
   "source": [
    "import threading\n",
    "\n",
    "# Function to print the list of squares\n",
    "def print_squares():\n",
    "    squares = [x**2 for x in range(1, 11)]\n",
    "    print(\"List of Squares:\", squares)\n",
    "\n",
    "# Function to print the list of cubes\n",
    "def print_cubes():\n",
    "    cubes = [x**3 for x in range(1, 11)]\n",
    "    print(\"List of Cubes:\", cubes)\n",
    "\n",
    "# Create the threads\n",
    "thread1 = threading.Thread(target=print_squares)\n",
    "thread2 = threading.Thread(target=print_cubes)\n",
    "\n",
    "# Start the threads\n",
    "thread1.start()\n",
    "thread2.start()\n",
    "\n",
    "# Wait for the threads to finish\n",
    "thread1.join()\n",
    "thread2.join()\n",
    "\n",
    "print(\"Done!\")\n"
   ]
  },
  {
   "cell_type": "code",
   "execution_count": 5,
   "id": "5997de68-a206-49db-8d48-5758c1af1c34",
   "metadata": {},
   "outputs": [],
   "source": [
    "#Q5. State advantages and disadvantages of multithreading."
   ]
  },
  {
   "cell_type": "code",
   "execution_count": 11,
   "id": "69dbea43-eec5-44f4-8d8f-33fdbbac8c17",
   "metadata": {},
   "outputs": [
    {
     "data": {
      "text/plain": [
       "' Multithreading has several advantages and disadvantages. Some of the advantages are:\\n\\nAdvantages:\\n\\n1. Improved performance: Multithreading can improve the performance of a program by taking advantage of multiple processors\\n   or cores, allowing the program to execute multiple tasks simultaneously.\\n\\n2. Faster response times: Multithreading can make a program more responsive by allowing it to perform multiple tasks \\n   simultaneously, which can help to reduce the time it takes to complete a task.\\n\\n3. Better resource utilization: Multithreading can make better use of system resources, such as CPU cycles, memory, and I/O\\n   operations, by allowing the program to perform multiple tasks simultaneously.\\n\\n4. Simplified code: Multithreading can simplify the design of a program by allowing it to be broken down into smaller, more\\n   manageable parts that can be executed concurrently.\\n\\n\\nDisadvantages:\\n\\n1. Increased complexity: Multithreading can make the design and implementation of a program more complex, as it requires careful\\n    synchronization and management of shared resources to avoid data races and other concurrency issues.\\n\\n2. Increased memory usage: Multithreading can increase the memory usage of a program, as each thread requires its own stack and\\n    other resources.\\n\\n3. Increased debugging difficulty: Multithreaded programs can be more difficult to debug, as issues such as deadlocks and\\n    race conditions can be hard to detect and reproduce.\\n\\n4. Reduced predictability: Multithreading can reduce the predictability of a program, as the order in which tasks are executed\\n    may not be deterministic, which can make it harder to reason about the behavior of the program. '"
      ]
     },
     "execution_count": 11,
     "metadata": {},
     "output_type": "execute_result"
    }
   ],
   "source": [
    "\"\"\" Multithreading has several advantages and disadvantages. Some of the advantages are:\n",
    "\n",
    "Advantages:\n",
    "\n",
    "1. Improved performance: Multithreading can improve the performance of a program by taking advantage of multiple processors\n",
    "   or cores, allowing the program to execute multiple tasks simultaneously.\n",
    "\n",
    "2. Faster response times: Multithreading can make a program more responsive by allowing it to perform multiple tasks \n",
    "   simultaneously, which can help to reduce the time it takes to complete a task.\n",
    "\n",
    "3. Better resource utilization: Multithreading can make better use of system resources, such as CPU cycles, memory, and I/O\n",
    "   operations, by allowing the program to perform multiple tasks simultaneously.\n",
    "\n",
    "4. Simplified code: Multithreading can simplify the design of a program by allowing it to be broken down into smaller, more\n",
    "   manageable parts that can be executed concurrently.\n",
    "\n",
    "\n",
    "Disadvantages:\n",
    "\n",
    "1. Increased complexity: Multithreading can make the design and implementation of a program more complex, as it requires careful\n",
    "    synchronization and management of shared resources to avoid data races and other concurrency issues.\n",
    "\n",
    "2. Increased memory usage: Multithreading can increase the memory usage of a program, as each thread requires its own stack and\n",
    "    other resources.\n",
    "\n",
    "3. Increased debugging difficulty: Multithreaded programs can be more difficult to debug, as issues such as deadlocks and\n",
    "    race conditions can be hard to detect and reproduce.\n",
    "\n",
    "4. Reduced predictability: Multithreading can reduce the predictability of a program, as the order in which tasks are executed\n",
    "    may not be deterministic, which can make it harder to reason about the behavior of the program. \"\"\""
   ]
  },
  {
   "cell_type": "code",
   "execution_count": 6,
   "id": "c7444c3b-45cf-412b-8c20-a41d71bf9be5",
   "metadata": {},
   "outputs": [],
   "source": [
    "#Q6. Explain deadlocks and race conditions."
   ]
  },
  {
   "cell_type": "code",
   "execution_count": null,
   "id": "cb51ef35-c07e-4f38-8fd2-dd8d63170b8d",
   "metadata": {},
   "outputs": [],
   "source": [
    "\"\"\" Deadlocks and race conditions are two common issues that can occur in multithreaded programs.\n",
    "\n",
    "A deadlock occurs when two or more threads are blocked, waiting for each other to release resources that they need to continue executing. In other words, each thread is waiting for a resource that is held by another thread, resulting in a \"deadlock\" where neither thread can continue executing. Deadlocks can occur when multiple threads access shared resources in different orders or when they acquire and hold resources for too long.\n",
    "\n",
    "A race condition occurs when two or more threads access a shared resource in an unpredictable order, leading to unexpected behavior or errors in the program. For example, if two threads attempt to update the same variable simultaneously, the result will depend on the order in which the threads execute, which can lead to inconsistent or incorrect results."
   ]
  }
 ],
 "metadata": {
  "kernelspec": {
   "display_name": "Python 3 (ipykernel)",
   "language": "python",
   "name": "python3"
  },
  "language_info": {
   "codemirror_mode": {
    "name": "ipython",
    "version": 3
   },
   "file_extension": ".py",
   "mimetype": "text/x-python",
   "name": "python",
   "nbconvert_exporter": "python",
   "pygments_lexer": "ipython3",
   "version": "3.10.8"
  }
 },
 "nbformat": 4,
 "nbformat_minor": 5
}
